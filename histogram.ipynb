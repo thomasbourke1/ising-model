{
 "cells": [
  {
   "cell_type": "code",
   "execution_count": 53,
   "metadata": {},
   "outputs": [],
   "source": [
    "import pandas as pd\n",
    "import matplotlib.pyplot as plt\n",
    "import os"
   ]
  },
  {
   "cell_type": "code",
   "execution_count": 54,
   "metadata": {},
   "outputs": [],
   "source": [
    "\n",
    "\n",
    "folder_path = \"data2/0.4\"\n",
    "\n",
    "\n",
    "hist_data = []\n",
    "\n",
    "# Iterate over all files in the folder\n",
    "for filename in os.listdir(folder_path):\n",
    "    file_path = os.path.join(folder_path, filename)\n",
    "    # Check if it's a file\n",
    "    if os.path.isfile(file_path):\n",
    "        # Open the file\n",
    "        df = pd.read_csv(file_path)\n",
    "        \n",
    "        beta = df['beta'][0]\n",
    "        \n",
    "        sweeps = df['sweeps']\n",
    "        \n",
    "        magnetisation = df['magnetisation']\n",
    "        \n",
    "        for i in range(len(sweeps)):\n",
    "            if sweeps[i] == 50:\n",
    "                \n",
    "                hist_data.append(magnetisation[i])\n",
    "                \n",
    "            "
   ]
  },
  {
   "cell_type": "code",
   "execution_count": 55,
   "metadata": {},
   "outputs": [
    {
     "data": {
      "image/png": "[encoded data removed]",
      "text/plain": [
       "<Figure size 432x288 with 1 Axes>"
      ]
     },
     "metadata": {
      "needs_background": "light"
     },
     "output_type": "display_data"
    }
   ],
   "source": [
    "plt.hist(hist_data, bins=10, color='skyblue', edgecolor='black')\n",
    "\n",
    "# Add labels and title\n",
    "plt.ylabel('Frequency')\n",
    "\n",
    "\n",
    "plt.xlabel(\"$m$ after 50 MC sweeps\")\n",
    "# plt.title('Histogram of Sample Data')\n",
    "\n",
    "# Show plot\n",
    "plt.xlim(0.1,0.7)\n",
    "\n",
    "plt.savefig(\"figures/histogram.png\")\n",
    "\n",
    "plt.show()"
   ]
  }
 ],
 "metadata": {
  "kernelspec": {
   "display_name": "base",
   "language": "python",
   "name": "python3"
  },
  "language_info": {
   "codemirror_mode": {
    "name": "ipython",
    "version": 3
   },
   "file_extension": ".py",
   "mimetype": "text/x-python",
   "name": "python",
   "nbconvert_exporter": "python",
   "pygments_lexer": "ipython3",
   "version": "3.9.7"
  }
 },
 "nbformat": 4,
 "nbformat_minor": 2
}
