{
 "cells": [
  {
   "cell_type": "code",
   "execution_count": 37,
   "metadata": {},
   "outputs": [],
   "source": [
    "import pandas as pd\n",
    "import numpy as np\n",
    "import matplotlib.pyplot as plt\n",
    "import os\n",
    "\n",
    "# constants\n",
    "k_b = 1.381e-23"
   ]
  },
  {
   "cell_type": "code",
   "execution_count": 38,
   "metadata": {},
   "outputs": [],
   "source": [
    "# standard error:\n",
    "def getStandardError(column):\n",
    "   \n",
    "    n = len(column)\n",
    "    standard_error = []\n",
    "    squares = []\n",
    "    \n",
    "    for i in range(n):\n",
    "        temp_square = column[i]**2\n",
    "        squares.append(temp_square)\n",
    "        \n",
    "    squaredMean = np.mean(column)**2\n",
    "    meanOfSquares = np.mean(squares)\n",
    "    \n",
    "    prefactor = 1/(np.sqrt(n-1))\n",
    "    \n",
    "    standard_error = prefactor * np.sqrt(meanOfSquares - squaredMean)\n",
    "    \n",
    "    return standard_error\n",
    "    "
   ]
  },
  {
   "cell_type": "code",
   "execution_count": 39,
   "metadata": {},
   "outputs": [
    {
     "data": {
      "text/plain": [
       "0.0"
      ]
     },
     "execution_count": 39,
     "metadata": {},
     "output_type": "execute_result"
    }
   ],
   "source": [
    "bruh = [5,5,5,5]\n",
    "\n",
    "getStandardError(bruh)"
   ]
  },
  {
   "cell_type": "code",
   "execution_count": 40,
   "metadata": {},
   "outputs": [],
   "source": [
    "import os\n",
    "\n",
    "# Function to read files in a folder and its subfolders\n",
    "def getG_dict(root_folder):\n",
    "    \n",
    "    G_dict = {}\n",
    "    \n",
    "    for root, dirs, files in os.walk(root_folder):\n",
    "        \n",
    "        \n",
    "        G = []\n",
    "        G_err = []\n",
    "        r_correlation = []\n",
    "        \n",
    "        for file_name in files:\n",
    "            file_path = os.path.join(root, file_name)\n",
    "            # Here you can perform actions on each file, such as reading its contents\n",
    "            \n",
    "            df = pd.read_csv(file_path)\n",
    "            temp_r = df['r_correlation'][0]\n",
    "            temp_G = np.mean(df['G'])\n",
    "            \n",
    "            temp_G_err = getStandardError(df['G'])\n",
    "            \n",
    "            \n",
    "            beta = df['beta'][0]\n",
    "            \n",
    "            # G.append(temp_G)\n",
    "            # r_correlation.append(temp_r)\n",
    "            \n",
    "            if beta not in G_dict:\n",
    "                G_dict[beta] = {'r_correlation': [], 'G': [], 'G_err': []}\n",
    "            \n",
    "            G_dict[beta]['r_correlation'].append(temp_r)\n",
    "            G_dict[beta]['G'].append(temp_G)\n",
    "            G_dict[beta]['G_err'].append(temp_G_err)\n",
    "            \n",
    "            \n",
    "            # print(f\"file_name = {file_path}\")\n",
    "        \n",
    "    return G_dict\n",
    "\n"
   ]
  },
  {
   "cell_type": "code",
   "execution_count": 41,
   "metadata": {},
   "outputs": [],
   "source": [
    "G_dict = getG_dict('task5_data')"
   ]
  },
  {
   "cell_type": "code",
   "execution_count": 42,
   "metadata": {},
   "outputs": [],
   "source": [
    "# dictionary sorter\n",
    "def getSorted_dict(G_dict):\n",
    "    sorted_keys = sorted(G_dict, key=lambda x: abs(x))\n",
    "\n",
    "    print(sorted_keys)\n",
    "\n",
    "    # Create a new dictionary with sorted keys\n",
    "    sorted_dict = {key: G_dict[key] for key in sorted_keys}\n",
    "    \n",
    "    return sorted_dict\n"
   ]
  },
  {
   "cell_type": "code",
   "execution_count": 43,
   "metadata": {},
   "outputs": [],
   "source": [
    "def getG_plot(G_dict):\n",
    "    \n",
    "    plt.figure(figsize=(8, 6))  # Width, Height in inches\n",
    "    \n",
    "    for beta in G_dict:\n",
    "        \n",
    "        r_correlation = G_dict[beta]['r_correlation']\n",
    "        G = G_dict[beta]['G']\n",
    "        G_err = G_dict[beta]['G_err']\n",
    "        \n",
    "        \n",
    "        \n",
    "        # plt.plot(r_correlation, G, linestyle=\"\", marker='o', label=beta)\n",
    "        plt.errorbar(r_correlation, G, yerr=G_err, fmt='o', capsize=3,  label=beta)\n",
    "        plt.tick_params(axis='both', direction='in')\n",
    "        plt.legend()\n",
    "        \n",
    "        plt.xlabel(\"Distance between particles $r_{ij}$\")\n",
    "        plt.ylabel(\"Correlation function $G_{ij}$\")\n",
    "        \n",
    "        plt.savefig(\"figures/task5.png\")\n",
    "\n",
    "    return\n",
    "        "
   ]
  },
  {
   "cell_type": "code",
   "execution_count": 44,
   "metadata": {},
   "outputs": [
    {
     "name": "stdout",
     "output_type": "stream",
     "text": [
      "[0.2, 0.3, 0.4, 0.5, 0.6, 0.7, 0.8]\n"
     ]
    },
    {
     "data": {
      "image/png": "[encoded data removed]",
      "text/plain": [
       "<Figure size 576x432 with 1 Axes>"
      ]
     },
     "metadata": {
      "needs_background": "light"
     },
     "output_type": "display_data"
    }
   ],
   "source": [
    "G_dict = getSorted_dict(G_dict)\n",
    "\n",
    "getG_plot(G_dict)"
   ]
  }
 ],
 "metadata": {
  "kernelspec": {
   "display_name": "base",
   "language": "python",
   "name": "python3"
  },
  "language_info": {
   "codemirror_mode": {
    "name": "ipython",
    "version": 3
   },
   "file_extension": ".py",
   "mimetype": "text/x-python",
   "name": "python",
   "nbconvert_exporter": "python",
   "pygments_lexer": "ipython3",
   "version": "3.9.7"
  }
 },
 "nbformat": 4,
 "nbformat_minor": 2
}
