{
 "cells": [
  {
   "cell_type": "code",
   "execution_count": 45,
   "metadata": {},
   "outputs": [],
   "source": [
    "import pandas as pd\n",
    "import numpy as np\n",
    "import matplotlib.pyplot as plt\n",
    "import os\n",
    "\n",
    "# constants\n",
    "k_b = 1.381e-23"
   ]
  },
  {
   "cell_type": "code",
   "execution_count": 46,
   "metadata": {},
   "outputs": [],
   "source": [
    "# Directory containing CSV files\n",
    "directory = 'task5_data/'\n",
    "\n",
    "# List to store DataFrames\n",
    "dfs = []\n",
    "\n",
    "# Loop through each CSV file in the directory\n",
    "for filename in os.listdir(directory):\n",
    "    if filename.endswith('.csv'):\n",
    "        # Read the CSV file into a DataFrame and append it to the list\n",
    "        filepath = os.path.join(directory, filename)\n",
    "        df = pd.read_csv(filepath)\n",
    "        dfs.append(df)\n",
    "\n",
    "# Concatenate all DataFrames in the list into a single DataFrame\n",
    "combined_df = pd.concat(dfs, ignore_index=True)\n",
    "\n",
    "# Group the DataFrame by the 'beta' column\n",
    "grouped_df = combined_df.groupby('beta')\n",
    "\n",
    "# Create an empty dictionary to store the arrays\n",
    "beta_arrays = {}\n",
    "\n",
    "# Iterate over the groups\n",
    "for beta, group in grouped_df:\n",
    "    # Store the group as an array in the dictionary\n",
    "    beta_arrays[beta] = group.to_numpy()\n"
   ]
  },
  {
   "cell_type": "code",
   "execution_count": 56,
   "metadata": {},
   "outputs": [
    {
     "data": {
      "text/plain": [
       "{0.2: array([[ 0.0000e+00,  2.0000e-01,  1.0000e+00, ...,  1.0000e+00,\n",
       "          0.0000e+00,  3.0000e+00],\n",
       "        [ 1.0000e+00,  2.0000e-01,  6.2875e-01, ...,  3.8500e-01,\n",
       "          0.0000e+00,  3.0000e+00],\n",
       "        [ 2.0000e+00,  2.0000e-01,  4.0000e-01, ...,  1.4750e-01,\n",
       "          0.0000e+00,  3.0000e+00],\n",
       "        ...,\n",
       "        [ 4.8000e+01,  2.0000e-01, -8.0000e-02, ..., -2.7500e-02,\n",
       "          0.0000e+00,  8.0000e+00],\n",
       "        [ 4.9000e+01,  2.0000e-01,  1.8750e-02, ...,  2.5000e-03,\n",
       "          0.0000e+00,  8.0000e+00],\n",
       "        [ 5.0000e+01,  2.0000e-01, -2.8750e-02, ..., -3.5000e-02,\n",
       "          0.0000e+00,  8.0000e+00]]),\n",
       " 0.3: array([[ 0.0000e+00,  3.0000e-01,  1.0000e+00, ...,  1.0000e+00,\n",
       "          0.0000e+00,  1.5000e+01],\n",
       "        [ 1.0000e+00,  3.0000e-01,  8.6125e-01, ...,  7.3750e-01,\n",
       "          0.0000e+00,  1.5000e+01],\n",
       "        [ 2.0000e+00,  3.0000e-01,  7.6125e-01, ...,  5.8000e-01,\n",
       "          0.0000e+00,  1.5000e+01],\n",
       "        ...,\n",
       "        [ 4.8000e+01,  3.0000e-01, -1.2500e-02, ...,  4.7500e-02,\n",
       "          0.0000e+00,  1.8000e+01],\n",
       "        [ 4.9000e+01,  3.0000e-01, -1.7500e-02, ..., -2.5000e-03,\n",
       "          0.0000e+00,  1.8000e+01],\n",
       "        [ 5.0000e+01,  3.0000e-01, -4.2500e-02, ..., -2.5000e-03,\n",
       "          0.0000e+00,  1.8000e+01]]),\n",
       " 0.4: array([[ 0.     ,  0.4    ,  1.     , ...,  1.     ,  0.     ,  8.     ],\n",
       "        [ 1.     ,  0.4    ,  0.9325 , ...,  0.87   ,  0.     ,  8.     ],\n",
       "        [ 2.     ,  0.4    ,  0.87125, ...,  0.7525 ,  0.     ,  8.     ],\n",
       "        ...,\n",
       "        [48.     ,  0.4    ,  0.43375, ...,  0.1925 ,  0.     ,  5.     ],\n",
       "        [49.     ,  0.4    ,  0.46625, ...,  0.22   ,  0.     ,  5.     ],\n",
       "        [50.     ,  0.4    ,  0.49125, ...,  0.235  ,  0.     ,  5.     ]]),\n",
       " 0.5: array([[ 0.     ,  0.5    ,  1.     , ...,  1.     ,  0.     ,  7.     ],\n",
       "        [ 1.     ,  0.5    ,  0.98   , ...,  0.96   ,  0.     ,  7.     ],\n",
       "        [ 2.     ,  0.5    ,  0.97   , ...,  0.94   ,  0.     ,  7.     ],\n",
       "        ...,\n",
       "        [48.     ,  0.5    ,  0.94125, ...,  0.8825 ,  0.     , 19.     ],\n",
       "        [49.     ,  0.5    ,  0.93375, ...,  0.87   ,  0.     , 19.     ],\n",
       "        [50.     ,  0.5    ,  0.92   , ...,  0.8425 ,  0.     , 19.     ]]),\n",
       " 0.6: array([[ 0.     ,  0.6    ,  1.     , ...,  1.     ,  0.     , 10.     ],\n",
       "        [ 1.     ,  0.6    ,  0.9875 , ...,  0.975  ,  0.     , 10.     ],\n",
       "        [ 2.     ,  0.6    ,  0.98125, ...,  0.9625 ,  0.     , 10.     ],\n",
       "        ...,\n",
       "        [48.     ,  0.6    ,  0.975  , ...,  0.95   ,  0.     , 18.     ],\n",
       "        [49.     ,  0.6    ,  0.98375, ...,  0.97   ,  0.     , 18.     ],\n",
       "        [50.     ,  0.6    ,  0.9875 , ...,  0.975  ,  0.     , 18.     ]]),\n",
       " 0.7: array([[ 0.     ,  0.7    ,  1.     , ...,  1.     ,  0.     ,  6.     ],\n",
       "        [ 1.     ,  0.7    ,  0.9925 , ...,  0.985  ,  0.     ,  6.     ],\n",
       "        [ 2.     ,  0.7    ,  0.995  , ...,  0.99   ,  0.     ,  6.     ],\n",
       "        ...,\n",
       "        [48.     ,  0.7    ,  0.99125, ...,  0.9825 ,  0.     ,  8.     ],\n",
       "        [49.     ,  0.7    ,  0.98875, ...,  0.9775 ,  0.     ,  8.     ],\n",
       "        [50.     ,  0.7    ,  0.99   , ...,  0.98   ,  0.     ,  8.     ]]),\n",
       " 0.8: array([[ 0.     ,  0.8    ,  1.     , ...,  1.     ,  0.     , 19.     ],\n",
       "        [ 1.     ,  0.8    ,  0.9975 , ...,  0.995  ,  0.     , 19.     ],\n",
       "        [ 2.     ,  0.8    ,  1.     , ...,  1.     ,  0.     , 19.     ],\n",
       "        ...,\n",
       "        [48.     ,  0.8    ,  0.99625, ...,  0.9925 ,  0.     , 12.     ],\n",
       "        [49.     ,  0.8    ,  0.99625, ...,  0.9925 ,  0.     , 12.     ],\n",
       "        [50.     ,  0.8    ,  0.99125, ...,  0.9825 ,  0.     , 12.     ]])}"
      ]
     },
     "execution_count": 56,
     "metadata": {},
     "output_type": "execute_result"
    }
   ],
   "source": [
    "beta_arrays"
   ]
  },
  {
   "cell_type": "code",
   "execution_count": 54,
   "metadata": {},
   "outputs": [
    {
     "name": "stdout",
     "output_type": "stream",
     "text": [
      "[3.0, 3.0, 3.0, 3.0, 3.0, 3.0, 3.0, 3.0, 3.0, 3.0, 3.0, 3.0, 3.0, 3.0, 3.0, 3.0, 3.0, 3.0, 3.0, 3.0, 3.0, 3.0, 3.0, 3.0, 3.0, 3.0, 3.0, 3.0, 3.0, 3.0, 3.0, 3.0, 3.0, 3.0, 3.0, 3.0, 3.0, 3.0, 3.0, 3.0, 3.0, 3.0, 3.0, 3.0, 3.0, 3.0, 3.0, 3.0, 3.0, 3.0, 3.0, 2.0, 2.0, 2.0, 2.0, 2.0, 2.0, 2.0, 2.0, 2.0, 2.0, 2.0, 2.0, 2.0, 2.0, 2.0, 2.0, 2.0, 2.0, 2.0, 2.0, 2.0, 2.0, 2.0, 2.0, 2.0, 2.0, 2.0, 2.0, 2.0, 2.0, 2.0, 2.0, 2.0, 2.0, 2.0, 2.0, 2.0, 2.0, 2.0, 2.0, 2.0, 2.0, 2.0, 2.0, 2.0, 2.0, 2.0, 2.0, 2.0, 2.0, 2.0, 0.0, 0.0, 0.0, 0.0, 0.0, 0.0, 0.0, 0.0, 0.0, 0.0, 0.0, 0.0, 0.0, 0.0, 0.0, 0.0, 0.0, 0.0, 0.0, 0.0, 0.0, 0.0, 0.0, 0.0, 0.0, 0.0, 0.0, 0.0, 0.0, 0.0, 0.0, 0.0, 0.0, 0.0, 0.0, 0.0, 0.0, 0.0, 0.0, 0.0, 0.0, 0.0, 0.0, 0.0, 0.0, 0.0, 0.0, 0.0, 0.0, 0.0, 0.0, 1.0, 1.0, 1.0, 1.0, 1.0, 1.0, 1.0, 1.0, 1.0, 1.0, 1.0, 1.0, 1.0, 1.0, 1.0, 1.0, 1.0, 1.0, 1.0, 1.0, 1.0, 1.0, 1.0, 1.0, 1.0, 1.0, 1.0, 1.0, 1.0, 1.0, 1.0, 1.0, 1.0, 1.0, 1.0, 1.0, 1.0, 1.0, 1.0, 1.0, 1.0, 1.0, 1.0, 1.0, 1.0, 1.0, 1.0, 1.0, 1.0, 1.0, 1.0, 5.0, 5.0, 5.0, 5.0, 5.0, 5.0, 5.0, 5.0, 5.0, 5.0, 5.0, 5.0, 5.0, 5.0, 5.0, 5.0, 5.0, 5.0, 5.0, 5.0, 5.0, 5.0, 5.0, 5.0, 5.0, 5.0, 5.0, 5.0, 5.0, 5.0, 5.0, 5.0, 5.0, 5.0, 5.0, 5.0, 5.0, 5.0, 5.0, 5.0, 5.0, 5.0, 5.0, 5.0, 5.0, 5.0, 5.0, 5.0, 5.0, 5.0, 5.0, 4.0, 4.0, 4.0, 4.0, 4.0, 4.0, 4.0, 4.0, 4.0, 4.0, 4.0, 4.0, 4.0, 4.0, 4.0, 4.0, 4.0, 4.0, 4.0, 4.0, 4.0, 4.0, 4.0, 4.0, 4.0, 4.0, 4.0, 4.0, 4.0, 4.0, 4.0, 4.0, 4.0, 4.0, 4.0, 4.0, 4.0, 4.0, 4.0, 4.0, 4.0, 4.0, 4.0, 4.0, 4.0, 4.0, 4.0, 4.0, 4.0, 4.0, 4.0, 6.0, 6.0, 6.0, 6.0, 6.0, 6.0, 6.0, 6.0, 6.0, 6.0, 6.0, 6.0, 6.0, 6.0, 6.0, 6.0, 6.0, 6.0, 6.0, 6.0, 6.0, 6.0, 6.0, 6.0, 6.0, 6.0, 6.0, 6.0, 6.0, 6.0, 6.0, 6.0, 6.0, 6.0, 6.0, 6.0, 6.0, 6.0, 6.0, 6.0, 6.0, 6.0, 6.0, 6.0, 6.0, 6.0, 6.0, 6.0, 6.0, 6.0, 6.0, 7.0, 7.0, 7.0, 7.0, 7.0, 7.0, 7.0, 7.0, 7.0, 7.0, 7.0, 7.0, 7.0, 7.0, 7.0, 7.0, 7.0, 7.0, 7.0, 7.0, 7.0, 7.0, 7.0, 7.0, 7.0, 7.0, 7.0, 7.0, 7.0, 7.0, 7.0, 7.0, 7.0, 7.0, 7.0, 7.0, 7.0, 7.0, 7.0, 7.0, 7.0, 7.0, 7.0, 7.0, 7.0, 7.0, 7.0, 7.0, 7.0, 7.0, 7.0, 18.0, 18.0, 18.0, 18.0, 18.0, 18.0, 18.0, 18.0, 18.0, 18.0, 18.0, 18.0, 18.0, 18.0, 18.0, 18.0, 18.0, 18.0, 18.0, 18.0, 18.0, 18.0, 18.0, 18.0, 18.0, 18.0, 18.0, 18.0, 18.0, 18.0, 18.0, 18.0, 18.0, 18.0, 18.0, 18.0, 18.0, 18.0, 18.0, 18.0, 18.0, 18.0, 18.0, 18.0, 18.0, 18.0, 18.0, 18.0, 18.0, 18.0, 18.0, 19.0, 19.0, 19.0, 19.0, 19.0, 19.0, 19.0, 19.0, 19.0, 19.0, 19.0, 19.0, 19.0, 19.0, 19.0, 19.0, 19.0, 19.0, 19.0, 19.0, 19.0, 19.0, 19.0, 19.0, 19.0, 19.0, 19.0, 19.0, 19.0, 19.0, 19.0, 19.0, 19.0, 19.0, 19.0, 19.0, 19.0, 19.0, 19.0, 19.0, 19.0, 19.0, 19.0, 19.0, 19.0, 19.0, 19.0, 19.0, 19.0, 19.0, 19.0, 11.0, 11.0, 11.0, 11.0, 11.0, 11.0, 11.0, 11.0, 11.0, 11.0, 11.0, 11.0, 11.0, 11.0, 11.0, 11.0, 11.0, 11.0, 11.0, 11.0, 11.0, 11.0, 11.0, 11.0, 11.0, 11.0, 11.0, 11.0, 11.0, 11.0, 11.0, 11.0, 11.0, 11.0, 11.0, 11.0, 11.0, 11.0, 11.0, 11.0, 11.0, 11.0, 11.0, 11.0, 11.0, 11.0, 11.0, 11.0, 11.0, 11.0, 11.0, 10.0, 10.0, 10.0, 10.0, 10.0, 10.0, 10.0, 10.0, 10.0, 10.0, 10.0, 10.0, 10.0, 10.0, 10.0, 10.0, 10.0, 10.0, 10.0, 10.0, 10.0, 10.0, 10.0, 10.0, 10.0, 10.0, 10.0, 10.0, 10.0, 10.0, 10.0, 10.0, 10.0, 10.0, 10.0, 10.0, 10.0, 10.0, 10.0, 10.0, 10.0, 10.0, 10.0, 10.0, 10.0, 10.0, 10.0, 10.0, 10.0, 10.0, 10.0, 12.0, 12.0, 12.0, 12.0, 12.0, 12.0, 12.0, 12.0, 12.0, 12.0, 12.0, 12.0, 12.0, 12.0, 12.0, 12.0, 12.0, 12.0, 12.0, 12.0, 12.0, 12.0, 12.0, 12.0, 12.0, 12.0, 12.0, 12.0, 12.0, 12.0, 12.0, 12.0, 12.0, 12.0, 12.0, 12.0, 12.0, 12.0, 12.0, 12.0, 12.0, 12.0, 12.0, 12.0, 12.0, 12.0, 12.0, 12.0, 12.0, 12.0, 12.0, 13.0, 13.0, 13.0, 13.0, 13.0, 13.0, 13.0, 13.0, 13.0, 13.0, 13.0, 13.0, 13.0, 13.0, 13.0, 13.0, 13.0, 13.0, 13.0, 13.0, 13.0, 13.0, 13.0, 13.0, 13.0, 13.0, 13.0, 13.0, 13.0, 13.0, 13.0, 13.0, 13.0, 13.0, 13.0, 13.0, 13.0, 13.0, 13.0, 13.0, 13.0, 13.0, 13.0, 13.0, 13.0, 13.0, 13.0, 13.0, 13.0, 13.0, 13.0, 17.0, 17.0, 17.0, 17.0, 17.0, 17.0, 17.0, 17.0, 17.0, 17.0, 17.0, 17.0, 17.0, 17.0, 17.0, 17.0, 17.0, 17.0, 17.0, 17.0, 17.0, 17.0, 17.0, 17.0, 17.0, 17.0, 17.0, 17.0, 17.0, 17.0, 17.0, 17.0, 17.0, 17.0, 17.0, 17.0, 17.0, 17.0, 17.0, 17.0, 17.0, 17.0, 17.0, 17.0, 17.0, 17.0, 17.0, 17.0, 17.0, 17.0, 17.0, 16.0, 16.0, 16.0, 16.0, 16.0, 16.0, 16.0, 16.0, 16.0, 16.0, 16.0, 16.0, 16.0, 16.0, 16.0, 16.0, 16.0, 16.0, 16.0, 16.0, 16.0, 16.0, 16.0, 16.0, 16.0, 16.0, 16.0, 16.0, 16.0, 16.0, 16.0, 16.0, 16.0, 16.0, 16.0, 16.0, 16.0, 16.0, 16.0, 16.0, 16.0, 16.0, 16.0, 16.0, 16.0, 16.0, 16.0, 16.0, 16.0, 16.0, 16.0, 14.0, 14.0, 14.0, 14.0, 14.0, 14.0, 14.0, 14.0, 14.0, 14.0, 14.0, 14.0, 14.0, 14.0, 14.0, 14.0, 14.0, 14.0, 14.0, 14.0, 14.0, 14.0, 14.0, 14.0, 14.0, 14.0, 14.0, 14.0, 14.0, 14.0, 14.0, 14.0, 14.0, 14.0, 14.0, 14.0, 14.0, 14.0, 14.0, 14.0, 14.0, 14.0, 14.0, 14.0, 14.0, 14.0, 14.0, 14.0, 14.0, 14.0, 14.0, 15.0, 15.0, 15.0, 15.0, 15.0, 15.0, 15.0, 15.0, 15.0, 15.0, 15.0, 15.0, 15.0, 15.0, 15.0, 15.0, 15.0, 15.0, 15.0, 15.0, 15.0, 15.0, 15.0, 15.0, 15.0, 15.0, 15.0, 15.0, 15.0, 15.0, 15.0, 15.0, 15.0, 15.0, 15.0, 15.0, 15.0, 15.0, 15.0, 15.0, 15.0, 15.0, 15.0, 15.0, 15.0, 15.0, 15.0, 15.0, 15.0, 15.0, 15.0, 9.0, 9.0, 9.0, 9.0, 9.0, 9.0, 9.0, 9.0, 9.0, 9.0, 9.0, 9.0, 9.0, 9.0, 9.0, 9.0, 9.0, 9.0, 9.0, 9.0, 9.0, 9.0, 9.0, 9.0, 9.0, 9.0, 9.0, 9.0, 9.0, 9.0, 9.0, 9.0, 9.0, 9.0, 9.0, 9.0, 9.0, 9.0, 9.0, 9.0, 9.0, 9.0, 9.0, 9.0, 9.0, 9.0, 9.0, 9.0, 9.0, 9.0, 9.0, 8.0, 8.0, 8.0, 8.0, 8.0, 8.0, 8.0, 8.0, 8.0, 8.0, 8.0, 8.0, 8.0, 8.0, 8.0, 8.0, 8.0, 8.0, 8.0, 8.0, 8.0, 8.0, 8.0, 8.0, 8.0, 8.0, 8.0, 8.0, 8.0, 8.0, 8.0, 8.0, 8.0, 8.0, 8.0, 8.0, 8.0, 8.0, 8.0, 8.0, 8.0, 8.0, 8.0, 8.0, 8.0, 8.0, 8.0, 8.0, 8.0, 8.0, 8.0]\n",
      "[1.0, 0.385, 0.1475, 0.0725, 0.0225, 0.0475, 0.0275, 0.0225, 0.03, -0.0225, 0.0075, 0.005, 0.005, 0.0225, 0.0425, 0.0075, 0.0025, -0.02, 0.005, 0.04, 0.035, 0.045, 0.0, -0.04, 0.0425, 0.0125, 0.0225, -0.045, 0.0025, 0.0175, 0.0625, 0.0475, 0.015, 0.04, 0.06, 0.0025, 0.0475, 0.055, 0.005, 0.005, -0.0025, -0.0225, 0.03, 0.0175, 0.0475, 0.0075, 0.0275, 0.0125, 0.02, -0.015, 0.0125, 1.0, 0.4475, 0.2025, 0.14, 0.09, 0.1375, 0.0225, 0.08, 0.045, 0.045, 0.0675, 0.0, 0.0225, 0.0275, 0.025, -0.01, 0.0275, 0.0125, 0.06, 0.0, 0.035, 0.0625, 0.075, 0.0375, 0.04, 0.0375, 0.0025, 0.1, 0.0575, 0.025, 0.095, 0.06, 0.03, 0.0275, 0.0475, 0.0, 0.0675, 0.07, 0.05, -0.04, 0.0225, 0.0475, 0.08, 0.03, 0.005, 0.0925, 0.01, 0.085, 0.1025, 0.0675, 0.0825, 1.0, 1.0, 1.0, 1.0, 1.0, 1.0, 1.0, 1.0, 1.0, 1.0, 1.0, 1.0, 1.0, 1.0, 1.0, 1.0, 1.0, 1.0, 1.0, 1.0, 1.0, 1.0, 1.0, 1.0, 1.0, 1.0, 1.0, 1.0, 1.0, 1.0, 1.0, 1.0, 1.0, 1.0, 1.0, 1.0, 1.0, 1.0, 1.0, 1.0, 1.0, 1.0, 1.0, 1.0, 1.0, 1.0, 1.0, 1.0, 1.0, 1.0, 1.0, 1.0, 0.515, 0.365, 0.235, 0.2725, 0.2125, 0.205, 0.235, 0.17, 0.26, 0.225, 0.23, 0.2375, 0.25, 0.23, 0.175, 0.21, 0.2325, 0.22, 0.2325, 0.2475, 0.25, 0.21, 0.1625, 0.2025, 0.2525, 0.21, 0.2475, 0.2225, 0.2125, 0.195, 0.185, 0.2275, 0.245, 0.2175, 0.2275, 0.25, 0.2225, 0.205, 0.2275, 0.205, 0.195, 0.1675, 0.225, 0.18, 0.21, 0.2025, 0.1725, 0.2225, 0.2075, 0.22, 1.0, 0.41, 0.125, 0.0525, 0.0325, 0.0, 0.0275, 0.0575, 0.0075, 0.035, 0.0075, 0.035, 0.01, 0.0075, 0.035, 0.0175, 0.0, -0.0325, -0.04, -0.015, 0.0125, 0.0125, -0.0625, -0.0075, 0.02, 0.0075, 0.0, 0.0325, 0.0175, -0.0225, -0.065, -0.0075, 0.0475, 0.025, 0.0225, 0.03, 0.0075, -0.0225, -0.025, -0.0075, -0.055, -0.0375, 0.0175, -0.0775, -0.055, -0.0475, 0.0025, 0.0075, -0.0075, 0.0, 0.02, 1.0, 0.4425, 0.2, 0.0675, 0.095, 0.0425, 0.0525, 0.0075, 0.01, 0.0025, -0.0125, 0.0225, -0.015, -0.005, -0.035, -0.0525, 0.03, -0.02, 0.035, -0.0125, 0.0375, 0.0675, 0.0875, 0.0125, 0.03, 0.01, -0.0275, -0.0125, 0.03, 0.0, 0.005, -0.0175, 0.01, 0.0225, 0.0375, -0.025, 0.0325, 0.0075, 0.005, 0.0325, 0.01, 0.025, 0.0125, -0.0125, 0.0075, -0.005, 0.035, -0.0325, -0.02, 0.07, -0.0025, 1.0, 0.355, 0.1625, 0.06, 0.0375, 0.065, -0.0025, 0.005, 0.0125, 0.03, -0.0175, 0.0075, 0.0, 0.025, -0.005, 0.015, 0.025, 0.035, 0.0375, 0.0225, 0.0125, -0.015, 0.01, -0.03, -0.03, 0.015, 0.0, -0.0225, 0.0175, -0.0025, -0.015, 0.02, 0.0125, -0.0075, 0.005, 0.0225, -0.0325, -0.0025, -0.0275, -0.055, -0.0225, -0.0325, 0.015, -0.005, 0.025, 0.0275, 0.005, 0.0025, 0.0, 0.06, -0.0075, 1.0, 0.455, 0.1825, 0.1075, 0.05, -0.02, 0.01, -0.04, -0.0175, -0.0125, -0.0225, 0.0375, -0.01, 0.03, -0.0275, 0.0025, -0.01, -0.0175, -0.04, 0.05, 0.045, -0.01, 0.02, -0.0275, -0.0025, 0.0075, 0.0175, 0.0175, 0.0, -0.0375, -0.04, 0.015, -0.0125, 0.0275, 0.02, 0.045, -0.005, -0.005, -0.0525, -0.03, 0.0425, -0.01, -0.01, 0.02, 0.01, 0.0325, -0.015, -0.025, 0.0225, 0.035, -0.0175, 1.0, 0.46, 0.275, 0.125, 0.0025, 0.005, 0.0, -0.0425, 0.0475, 0.0, -0.035, -0.0175, -0.025, -0.0125, -0.05, -0.0075, -0.03, -0.0225, -0.01, 0.045, 0.0275, 0.0075, -0.01, -0.0425, -0.0325, -0.0625, -0.025, -0.0225, 0.0025, 0.01, 0.0025, 0.045, 0.0025, -0.0375, 0.0, 0.005, -0.0125, -0.045, 0.0475, 0.01, 0.02, -0.015, 0.005, 0.0025, -0.055, -0.0175, 0.0, 0.0025, -0.01, -0.035, 0.005, 1.0, 0.3875, 0.1, 0.0625, 0.0525, -0.01, 0.0, -0.0225, -0.0475, -0.0025, -0.01, -0.02, -0.0025, 0.0675, 0.0425, 0.02, -0.0325, -0.0275, -0.015, 0.005, 0.02, -0.0375, -0.03, 0.025, 0.01, -0.025, 0.0725, 0.01, -0.015, 0.015, -0.02, -0.045, 0.0025, -0.0225, 0.015, -0.02, -0.005, 0.005, 0.015, 0.0425, 0.0, 0.0075, -0.0225, 0.035, 0.055, 0.05, -0.005, -0.0175, -0.04, 0.0275, 0.0125, 1.0, 0.42, 0.165, 0.0925, 0.04, -0.01, 0.045, 0.0075, 0.0025, 0.02, -0.01, 0.0275, 0.025, 0.005, -0.025, -0.0125, -0.02, 0.0075, -0.015, -0.035, 0.0025, 0.04, 0.025, -0.0125, 0.05, 0.0125, 0.0025, 0.0175, -0.0375, 0.015, 0.03, -0.0025, 0.015, -0.015, 0.03, 0.0375, 0.0025, 0.0475, 0.02, -0.03, 0.0275, 0.0375, 0.0175, 0.03, 0.04, -0.0175, 0.0175, 0.0225, 0.0025, 0.03, -0.0125, 1.0, 0.455, 0.16, 0.075, 0.065, 0.06, 0.0175, 0.005, -0.005, -0.055, -0.0075, 0.0425, 0.0475, -0.0025, 0.0175, 0.0175, -0.025, 0.0225, -0.02, -0.0225, 0.035, -0.0275, -0.0125, -0.0025, 0.0225, 0.015, -0.01, 0.0175, 0.0, -0.0075, -0.0325, -0.0275, -0.03, 0.0175, -0.0225, -0.005, -0.035, 0.0075, -0.0075, -0.04, 0.015, 0.005, 0.06, 0.0375, 0.01, -0.0075, -0.0475, 0.0225, -0.02, 0.025, -0.0175, 1.0, 0.445, 0.14, 0.0325, 0.02, 0.0, -0.0075, 0.02, -0.01, 0.05, 0.0425, -0.0225, -0.0125, 0.0175, 0.005, 0.005, 0.015, 0.015, 0.0, -0.005, 0.015, 0.0075, -0.025, 0.005, 0.01, -0.02, -0.02, 0.02, -0.0075, -0.035, 0.0, 0.005, 0.0275, 0.05, 0.0175, 0.0375, -0.025, 0.0025, 0.0125, -0.025, -0.035, 0.0225, 0.0425, -0.0175, 0.0125, -0.0025, -0.0175, -0.01, -0.02, 0.0125, 0.0, 1.0, 0.3525, 0.1025, 0.06, 0.02, 0.0475, 0.0, 0.0275, -0.025, 0.0175, -0.0025, 0.01, -0.0525, 0.0575, 0.0275, 0.0025, 0.03, 0.07, -0.01, -0.0025, 0.01, 0.065, -0.015, 0.0025, -0.025, -0.0175, 0.02, -0.02, 0.0, -0.0025, 0.0075, 0.0275, 0.0075, 0.0025, 0.005, 0.005, 0.0275, -0.005, -0.0225, 0.0175, -0.005, 0.015, 0.03, -0.04, 0.0025, -0.0025, 0.0025, 0.0225, 0.015, -0.0125, -0.0225, 1.0, 0.4275, 0.1525, 0.075, 0.015, 0.01, 0.0, -0.03, -0.0075, -0.02, -0.0575, 0.0225, 0.0225, 0.0175, 0.0075, -0.0075, -0.0425, -0.0175, 0.03, -0.0175, -0.0025, -0.005, 0.025, 0.02, -0.0325, 0.0325, -0.0025, -0.0175, -0.0325, 0.015, 0.0, -0.0275, 0.0125, -0.0525, 0.0025, 0.025, 0.0325, 0.015, -0.005, 0.02, 0.02, -0.05, 0.02, -0.04, -0.005, -0.01, 0.005, -0.01, 0.0325, -0.0275, -0.0175, 1.0, 0.4325, 0.1625, 0.095, 0.0525, 0.04, 0.0225, 0.03, -0.02, 0.0075, -0.0225, 0.0125, -0.015, -0.01, 0.005, -0.015, -0.0125, 0.035, 0.0225, 0.055, -0.0225, -0.025, 0.0375, 0.0325, 0.015, 0.005, 0.0075, 0.0225, 0.03, 0.0075, -0.0025, 0.0125, 0.0475, 0.055, 0.035, -0.0225, 0.025, 0.035, -0.015, -0.015, -0.0275, -0.0275, 0.02, 0.0225, -0.0125, -0.03, 0.0325, 0.01, 0.0325, 0.0675, -0.0125, 1.0, 0.425, 0.1525, 0.0925, 0.0525, 0.0175, 0.0075, 0.0075, -0.0025, 0.0125, -0.0075, 0.0125, 0.01, -0.0125, -0.005, -0.045, -0.025, -0.0025, 0.005, 0.03, -0.0025, -0.005, -0.005, -0.01, 0.0125, -0.04, -0.0075, 0.0, -0.0275, 0.0075, 0.0225, -0.01, 0.0025, -0.0125, -0.0125, -0.005, 0.0, -0.0025, -0.0175, -0.005, 0.0025, -0.07, -0.0125, 0.035, -0.0075, 0.0225, -0.0075, -0.0225, -0.02, -0.0325, -0.015, 1.0, 0.4575, 0.13, 0.1225, 0.035, 0.025, 0.02, 0.0275, 0.01, -0.01, 0.025, 0.0175, 0.0, -0.0125, 0.08, 0.01, -0.02, 0.0125, -0.02, 0.0075, 0.015, 0.005, 0.03, -0.01, -0.0275, 0.005, 0.0275, 0.0375, -0.0125, 0.0275, 0.0525, -0.05, -0.07, -0.0475, -0.0625, -0.02, -0.025, -0.005, 0.03, 0.005, 0.0125, 0.0225, -0.0025, -0.02, 0.015, -0.005, 0.0175, -0.0325, -0.015, -0.01, 0.0, 1.0, 0.435, 0.195, 0.0925, 0.01, 0.0475, 0.0225, -0.035, 0.0, -0.04, -0.045, -0.015, 0.04, -0.0025, 0.0025, -0.01, -0.005, -0.045, -0.0325, 0.03, 0.0425, 0.0175, -0.0475, -0.07, 0.035, 0.0075, -0.01, 0.02, 0.0175, 0.0425, -0.04, -0.025, -0.03, -0.0075, 0.0375, 0.025, 0.045, 0.0325, 0.005, -0.0175, 0.025, 0.0475, 0.0025, -0.02, -0.0125, -0.055, 0.0025, -0.0175, -0.0325, 0.035, 0.0075, 1.0, 0.3625, 0.12, 0.02, -0.035, -0.01, 0.005, 0.0125, -0.07, -0.0325, -0.0225, -0.005, -0.0025, 0.0025, 0.015, -0.025, -0.025, 0.02, 0.025, 0.01, 0.005, 0.025, -0.0425, 0.0125, 0.0125, 0.035, 0.0025, 0.055, 0.045, -0.0625, 0.04, -0.015, -0.03, -0.0075, -0.02, -0.01, 0.005, 0.0, -0.0075, 0.015, -0.0175, -0.02, -0.085, -0.0025, 0.0025, -0.04, 0.005, 0.0025, -0.0275, 0.0025, -0.035]\n"
     ]
    }
   ],
   "source": [
    "len(beta_arrays[0.2])\n",
    "\n",
    "r_correlation = []\n",
    "# G = np.zeros(len(beta_arrays[0.2]))\n",
    "\n",
    "G = []\n",
    "\n",
    "for i in range(len(beta_arrays[0.2])):\n",
    "    \n",
    "    temp_r_correlation = beta_arrays[0.2][i][6]\n",
    "    r_correlation.append(temp_r_correlation)\n",
    "    \n",
    "    temp_G = beta_arrays[0.2][i][4]\n",
    "    G.append(temp_G)\n",
    "    \n",
    "    \n",
    "print(r_correlation)\n",
    "print(G)"
   ]
  },
  {
   "cell_type": "code",
   "execution_count": 58,
   "metadata": {},
   "outputs": [
    {
     "data": {
      "text/plain": [
       "[<matplotlib.lines.Line2D at 0x7f925851ce20>]"
      ]
     },
     "execution_count": 58,
     "metadata": {},
     "output_type": "execute_result"
    },
    {
     "data": {
      "image/png": "[encoded data removed]",
      "text/plain": [
       "<Figure size 432x288 with 1 Axes>"
      ]
     },
     "metadata": {
      "needs_background": "light"
     },
     "output_type": "display_data"
    }
   ],
   "source": [
    "plt.plot(r_correlation, G, marker = \"x\", linestyle=\"\")"
   ]
  }
 ],
 "metadata": {
  "kernelspec": {
   "display_name": "base",
   "language": "python",
   "name": "python3"
  },
  "language_info": {
   "codemirror_mode": {
    "name": "ipython",
    "version": 3
   },
   "file_extension": ".py",
   "mimetype": "text/x-python",
   "name": "python",
   "nbconvert_exporter": "python",
   "pygments_lexer": "ipython3",
   "version": "3.9.7"
  }
 },
 "nbformat": 4,
 "nbformat_minor": 2
}
