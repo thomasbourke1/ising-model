{
 "cells": [
  {
   "cell_type": "code",
   "execution_count": 59,
   "metadata": {},
   "outputs": [],
   "source": [
    "import pandas as pd\n",
    "import numpy as np\n",
    "import matplotlib.pyplot as plt\n",
    "import os\n",
    "\n",
    "# constants\n",
    "k_b = 1.381e-23"
   ]
  },
  {
   "cell_type": "code",
   "execution_count": 60,
   "metadata": {},
   "outputs": [],
   "source": [
    "import os\n",
    "\n",
    "# Function to read files in a folder and its subfolders\n",
    "def getG_dict(root_folder):\n",
    "    \n",
    "    G_dict = {}\n",
    "    \n",
    "    for root, dirs, files in os.walk(root_folder):\n",
    "        \n",
    "        \n",
    "        G = []\n",
    "        r_correlation = []\n",
    "        \n",
    "        for file_name in files:\n",
    "            file_path = os.path.join(root, file_name)\n",
    "            # Here you can perform actions on each file, such as reading its contents\n",
    "            \n",
    "            df = pd.read_csv(file_path)\n",
    "            temp_r = df['r_correlation'][0]\n",
    "            temp_G = np.mean(df['G'])\n",
    "            \n",
    "            beta = df['beta'][0]\n",
    "            \n",
    "            # G.append(temp_G)\n",
    "            # r_correlation.append(temp_r)\n",
    "            \n",
    "            if beta not in G_dict:\n",
    "                G_dict[beta] = {'r_correlation': [], 'G': []}\n",
    "            \n",
    "            G_dict[beta]['r_correlation'].append(temp_r)\n",
    "            G_dict[beta]['G'].append(temp_G)\n",
    "            \n",
    "            \n",
    "            # print(f\"file_name = {file_path}\")\n",
    "        \n",
    "    return G_dict\n",
    "\n"
   ]
  },
  {
   "cell_type": "code",
   "execution_count": 61,
   "metadata": {},
   "outputs": [],
   "source": [
    "G_dict = getG_dict('task5_data')"
   ]
  },
  {
   "cell_type": "code",
   "execution_count": 62,
   "metadata": {},
   "outputs": [],
   "source": [
    "# dictionary sorter\n",
    "def getSorted_dict(G_dict):\n",
    "    sorted_keys = sorted(G_dict, key=lambda x: abs(x))\n",
    "\n",
    "    print(sorted_keys)\n",
    "\n",
    "    # Create a new dictionary with sorted keys\n",
    "    sorted_dict = {key: G_dict[key] for key in sorted_keys}\n",
    "    \n",
    "    return sorted_dict\n"
   ]
  },
  {
   "cell_type": "code",
   "execution_count": 63,
   "metadata": {},
   "outputs": [],
   "source": [
    "def getG_plot(G_dict):\n",
    "    \n",
    "    for beta in G_dict:\n",
    "        \n",
    "        r_correlation = G_dict[beta]['r_correlation']\n",
    "        G = G_dict[beta]['G']\n",
    "        \n",
    "        plt.plot(r_correlation, G, linestyle=\"\", marker='o', label=beta)\n",
    "        \n",
    "        plt.legend()\n",
    "        plt.xlabel(\"Distance between particles $r_{ij}$\")\n",
    "        plt.ylabel(\"Correlation function $G_{ij}$\")\n",
    "\n",
    "        "
   ]
  },
  {
   "cell_type": "code",
   "execution_count": 64,
   "metadata": {},
   "outputs": [
    {
     "name": "stdout",
     "output_type": "stream",
     "text": [
      "[0.2, 0.3, 0.4, 0.5, 0.6, 0.7, 0.8]\n"
     ]
    },
    {
     "data": {
      "image/png": "[encoded data removed]",
      "text/plain": [
       "<Figure size 432x288 with 1 Axes>"
      ]
     },
     "metadata": {
      "needs_background": "light"
     },
     "output_type": "display_data"
    }
   ],
   "source": [
    "G_dict = getSorted_dict(G_dict)\n",
    "\n",
    "getG_plot(G_dict)"
   ]
  }
 ],
 "metadata": {
  "kernelspec": {
   "display_name": "base",
   "language": "python",
   "name": "python3"
  },
  "language_info": {
   "codemirror_mode": {
    "name": "ipython",
    "version": 3
   },
   "file_extension": ".py",
   "mimetype": "text/x-python",
   "name": "python",
   "nbconvert_exporter": "python",
   "pygments_lexer": "ipython3",
   "version": "3.9.7"
  }
 },
 "nbformat": 4,
 "nbformat_minor": 2
}
