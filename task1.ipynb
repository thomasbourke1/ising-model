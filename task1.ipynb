{
 "cells": [
  {
   "cell_type": "code",
   "execution_count": 11,
   "metadata": {},
   "outputs": [],
   "source": [
    "import pandas as pd\n",
    "import numpy as np\n",
    "import matplotlib.pyplot as plt\n",
    "import os\n",
    "\n",
    "# constants\n",
    "k_b = 1.381e-23"
   ]
  },
  {
   "cell_type": "code",
   "execution_count": 12,
   "metadata": {},
   "outputs": [],
   "source": [
    "# Directory containing CSV files\n",
    "directory = 'data/'\n",
    "\n",
    "# List to store DataFrames\n",
    "dfs = []\n",
    "\n",
    "# Loop through each CSV file in the directory\n",
    "for filename in os.listdir(directory):\n",
    "    if filename.endswith('.csv'):\n",
    "        # Read the CSV file into a DataFrame and append it to the list\n",
    "        filepath = os.path.join(directory, filename)\n",
    "        df = pd.read_csv(filepath)\n",
    "        dfs.append(df)\n",
    "\n",
    "# Concatenate all DataFrames in the list into a single DataFrame\n",
    "combined_df = pd.concat(dfs, ignore_index=True)\n"
   ]
  },
  {
   "cell_type": "code",
   "execution_count": 13,
   "metadata": {},
   "outputs": [],
   "source": [
    "# Group the DataFrame by the 'beta' column\n",
    "grouped_df = combined_df.groupby('beta')\n",
    "\n",
    "# Create an empty dictionary to store the arrays\n",
    "beta_arrays = {}\n",
    "\n",
    "# Iterate over the groups\n",
    "for beta, group in grouped_df:\n",
    "    # Store the group as an array in the dictionary\n",
    "    beta_arrays[beta] = group.to_numpy()\n"
   ]
  },
  {
   "cell_type": "code",
   "execution_count": 14,
   "metadata": {},
   "outputs": [],
   "source": [
    "def temp_flipper(betas):\n",
    "    \"\"\"\n",
    "    Converts a list of beta values to corresponding temperature values.\n",
    "    \n",
    "    Parameters:\n",
    "    betas (list): A list of beta values.\n",
    "    \n",
    "    Returns:\n",
    "    list: A list of temperature values corresponding to the given beta values.\n",
    "    \"\"\"\n",
    "    T_0 = []\n",
    "    for i in range(len(betas)):\n",
    "        temp_T_0 = 1/betas[i]\n",
    "        T_0.append(temp_T_0)    \n",
    "        \n",
    "    return T_0"
   ]
  },
  {
   "cell_type": "code",
   "execution_count": 15,
   "metadata": {},
   "outputs": [],
   "source": [
    "def heat_capacity(betas, energy):\n",
    "    \"\"\"\n",
    "    Calculate the heat capacity for a given list of betas and energy values.\n",
    "\n",
    "    Args:\n",
    "        betas (list): A list of beta values.\n",
    "        energy (list): A list of energy values.\n",
    "\n",
    "    Returns:\n",
    "        list: A list of heat capacity values.\n",
    "\n",
    "    \"\"\"\n",
    "    c = []\n",
    "    gridSize = 40\n",
    "    N = gridSize**2\n",
    "    for i in range(len(betas)):\n",
    "        temp_c = betas[i]**2 * N * energy[i]\n",
    "        c.append(temp_c)\n",
    "        \n",
    "    return c\n",
    "    "
   ]
  },
  {
   "cell_type": "code",
   "execution_count": 16,
   "metadata": {},
   "outputs": [],
   "source": [
    "def getChi(betas, magnetisation):\n",
    "    \"\"\"\n",
    "    Calculate the susceptibility (chi) for a given set of betas and magnetisation values.\n",
    "    \n",
    "    Parameters:\n",
    "    betas (list): A list of beta values.\n",
    "    magnetisation (list): A list of magnetisation values.\n",
    "    \n",
    "    Returns:\n",
    "    list: A list of calculated susceptibility values.\n",
    "    \"\"\"\n",
    "    \n",
    "    chi = []\n",
    "    gridSize = 40\n",
    "    N = gridSize**2\n",
    "    \n",
    "    for i in range(len(betas)):\n",
    "        temp_chi = betas[i] * N * magnetisation[i] \n",
    "        chi.append(temp_chi)\n",
    "    \n",
    "    return chi\n"
   ]
  },
  {
   "cell_type": "code",
   "execution_count": 17,
   "metadata": {},
   "outputs": [],
   "source": [
    "def plotter(depVar, col, sweepRange, plot=False, task4=False):\n",
    "    \"\"\"Function plot dependant variable against number of sweeps\n",
    "    dependantVar: give string that dependant variable will be called\n",
    "    col: column index of dependant variable starting from 0\n",
    "    sweepRange: range over which sweeps are plotted, always plots from zero -> may want to change\n",
    "    \"\"\"\n",
    "    \n",
    "    if plot:\n",
    "        plt.figure(figsize=(8, 6))  # Width: 8 inches, Height: 6 inches\n",
    "    \n",
    "    # task 2\n",
    "    eqns = []\n",
    "    betas = []\n",
    "    eqns_err = []\n",
    "    \n",
    "    if task4:\n",
    "        variance = []\n",
    "        variance_err = []\n",
    "    \n",
    "    for beta, array in beta_arrays.items(): \n",
    "        \n",
    "        # find number of seeds iterated over\n",
    "        max_seed = 0\n",
    "        for i in range(len(array)):\n",
    "            if array[i][5] > max_seed:\n",
    "                max_seed = int(array[i][5]) \n",
    "\n",
    "        # I don't know why I have to put this in\n",
    "        max_seed += 2\n",
    "\n",
    "        # magnetisation array for task 1\n",
    "        # columns are: sweeps, magnetisation, error\n",
    "        independentVar = np.zeros(max_seed)\n",
    "        dependantVar = np.zeros(max_seed)\n",
    "        \n",
    "        \n",
    "\n",
    "        # errors\n",
    "        value_squares = np.zeros(max_seed)\n",
    "        value_errors = []\n",
    "\n",
    "        # iterates over every beta value\n",
    "        for i in range(len(array)):\n",
    "            \n",
    "            j = int(array[i][0])\n",
    "            # appends sweeps\n",
    "            independentVar[j] = array[i][0]\n",
    "            # appends dependantVar\n",
    "            dependantVar[j] += array[i][col] / 50\n",
    "            # appends dependantVar squared for error stuff\n",
    "            value_squares[j] += array[i][col]**2 / 50\n",
    "\n",
    "        prefactor = 1 / ( np.sqrt( max_seed) -1 ) \n",
    "        for k in range(len(value_squares)):\n",
    "            value_errors.append( prefactor * np.sqrt(value_squares[k] - dependantVar[k]**2) )\n",
    "                        \n",
    "        if plot:\n",
    "            plt.errorbar(independentVar, dependantVar, yerr=value_errors, fmt='o', capsize=3, label=beta)\n",
    "            \n",
    "            plt.legend()\n",
    "            # Set tick parameters inwards\n",
    "            plt.tick_params(axis='both', direction='in')\n",
    "            plt.xlabel('Sweeps')\n",
    "            plt.xlim(0, sweepRange)\n",
    "\n",
    "            plt.ylabel(depVar)\n",
    "        \n",
    "        # task 2: finding equilibrium averages\n",
    "        # slice arrays\n",
    "        independentVar = independentVar[10:sweepRange+1]\n",
    "        dependantVar = dependantVar[10:sweepRange+1]\n",
    "        value_errors = value_errors[10:sweepRange+1]\n",
    "        # sqaures for task 4:\n",
    "        value_squares = value_squares[10:sweepRange+1]\n",
    "        \n",
    "        \n",
    "        # mean of dependant variables (magnetisation or energy) for given beta value\n",
    "        eqDepVar = np.mean(dependantVar)\n",
    "        # error in mean of dependant variable\n",
    "        eqDepVar_err = np.std(dependantVar) / np.sqrt(len(dependantVar))\n",
    "        eqns.append(eqDepVar)\n",
    "        betas.append(beta)\n",
    "        eqns_err.append(eqDepVar_err)\n",
    "            \n",
    "        # finds mean of squares if we want to carry out task 4\n",
    "        if task4:\n",
    "            # calulates variance in dependant variable\n",
    "            depVar_variance = np.mean(value_squares) - eqDepVar**2\n",
    "            depVar_variance_err = np.sqrt( (2* depVar_variance**4)/(max_seed-2) )\n",
    "            variance.append(depVar_variance)\n",
    "            variance_err.append(depVar_variance_err)\n",
    "\n",
    "        \n",
    "        \n",
    "    if plot:\n",
    "        plt.savefig(f\"figures/task1_{depVar}.png\")\n",
    "        plt.show()\n",
    "        \n",
    "    if task4:\n",
    "        return betas, variance, variance_err\n",
    "    else:    \n",
    "        return betas, eqns, eqns_err "
   ]
  },
  {
   "cell_type": "code",
   "execution_count": 18,
   "metadata": {},
   "outputs": [],
   "source": [
    "# task 3:\n",
    "\n",
    "# function calculates magnetisation using (16)\n",
    "def theory_mag(beta):\n",
    "    \n",
    "    if beta < 0.45:\n",
    "        print(f\"Theory is not valid for this beta = {beta}\")\n",
    "        return\n",
    "\n",
    "    m = ( 1 - 1/(np.sinh(2.27 * beta * np.log(1 + np.sqrt(2) ) )**4 ) )**(1/8)\n",
    "    \n",
    "    return m\n",
    "\n",
    "x_data = np.linspace(0.45, 1, 100)\n",
    "m_data = []\n",
    "\n",
    "for i in range(len(x_data)):\n",
    "    m_data.append(theory_mag(x_data[i]))"
   ]
  },
  {
   "cell_type": "code",
   "execution_count": 19,
   "metadata": {},
   "outputs": [
    {
     "name": "stderr",
     "output_type": "stream",
     "text": [
      "/var/folders/j0/4jbn0h55721bgq7ld4mp7qjw0000gn/T/ipykernel_3473/3518138671.py:55: RuntimeWarning: invalid value encountered in sqrt\n",
      "  value_errors.append( prefactor * np.sqrt(value_squares[k] - dependantVar[k]**2) )\n"
     ]
    },
    {
     "data": {
      "image/png": "[encoded data removed]",
      "text/plain": [
       "<Figure size 432x288 with 1 Axes>"
      ]
     },
     "metadata": {
      "needs_background": "light"
     },
     "output_type": "display_data"
    }
   ],
   "source": [
    "# task 2: calculate the equilibrium averages\n",
    "\n",
    "# magnetisation:\n",
    "betas = plotter(\"Magnetisation\", 2, 50)[0]\n",
    "eqM = plotter(\"Magnetisation\", 2, 50)[1]\n",
    "eqM_err = plotter(\"Magnetisation\", 2, 50)[2]\n",
    "\n",
    "T_0 = temp_flipper(betas)\n",
    "\n",
    "T_02 = temp_flipper(x_data)\n",
    "\n",
    "plt.errorbar(T_0, eqM, yerr=eqM_err, fmt='o', capsize=3, label=\"Numerical data\")\n",
    "\n",
    "plt.plot(T_02, m_data, linestyle=\"-\", label=\"Onsager solution\", color=\"r\")\n",
    "\n",
    "plt.legend()\n",
    "            \n",
    "# Set tick parameters inwards\n",
    "plt.tick_params(axis='both', direction='in')\n",
    "plt.xlabel('Dimensionless temperature $T_0$')\n",
    "\n",
    "# # comment out to set x lims\n",
    "# plt.xlim(1, 2.5)\n",
    "# plt.ylim(0.4,1.1)\n",
    "\n",
    "plt.ylabel(\"Equilibrium magnetisation $M$\")\n",
    "plt.savefig(\"figures/task2_magnetisation.png\")"
   ]
  },
  {
   "cell_type": "code",
   "execution_count": 20,
   "metadata": {},
   "outputs": [
    {
     "name": "stderr",
     "output_type": "stream",
     "text": [
      "/var/folders/j0/4jbn0h55721bgq7ld4mp7qjw0000gn/T/ipykernel_3473/3518138671.py:55: RuntimeWarning: invalid value encountered in sqrt\n",
      "  value_errors.append( prefactor * np.sqrt(value_squares[k] - dependantVar[k]**2) )\n"
     ]
    },
    {
     "data": {
      "image/png": "[encoded data removed]",
      "text/plain": [
       "<Figure size 432x288 with 1 Axes>"
      ]
     },
     "metadata": {
      "needs_background": "light"
     },
     "output_type": "display_data"
    }
   ],
   "source": [
    "# task 2 equilibrium averages: energy\n",
    "betas, eqE, eqE_err = plotter(\"Dimensionless energy $E$\", 3, 50)\n",
    "\n",
    "T_0 = temp_flipper(betas)\n",
    "\n",
    "# fix double counting energy\n",
    "for i in range(len(eqE)):\n",
    "    eqE[i] /= 2\n",
    "\n",
    "plt.errorbar(T_0, eqE, yerr=eqE_err, fmt='o', capsize=3)\n",
    "            \n",
    "# Set tick parameters inwards\n",
    "plt.tick_params(axis='both', direction='in')\n",
    "plt.xlabel('Dimensionless temperature $T_0$')\n",
    "# plt.xlim(0, sweepRange)\n",
    "\n",
    "plt.ylabel(\"Equilibrium  energy $E$\")\n",
    "\n",
    "plt.savefig(\"figures/task2_energy.png\")"
   ]
  },
  {
   "cell_type": "code",
   "execution_count": 21,
   "metadata": {},
   "outputs": [
    {
     "name": "stderr",
     "output_type": "stream",
     "text": [
      "/var/folders/j0/4jbn0h55721bgq7ld4mp7qjw0000gn/T/ipykernel_3473/3518138671.py:55: RuntimeWarning: invalid value encountered in sqrt\n",
      "  value_errors.append( prefactor * np.sqrt(value_squares[k] - dependantVar[k]**2) )\n"
     ]
    },
    {
     "data": {
      "text/plain": [
       "Text(0, 0.5, 'Heat Capacity $c$')"
      ]
     },
     "execution_count": 21,
     "metadata": {},
     "output_type": "execute_result"
    },
    {
     "data": {
      "image/png": "[encoded data removed]",
      "text/plain": [
       "<Figure size 576x432 with 1 Axes>"
      ]
     },
     "metadata": {
      "needs_background": "light"
     },
     "output_type": "display_data"
    }
   ],
   "source": [
    "# task 4, calculate specific heat capacity c \n",
    "    \n",
    "betas, energy, energy_err = plotter(\"heat capacity\", 3, 50, task4=True)\n",
    "\n",
    "# heat capacity\n",
    "c = heat_capacity(betas, energy)\n",
    "# heat capacity error\n",
    "# dc = heat_capacity(betas, energy_err)\n",
    "c_err = []\n",
    "\n",
    "for i in range(len(c)):\n",
    "    temp_c_err = 2 * energy_err[i] * energy[i]\n",
    "    c_err.append(temp_c_err)\n",
    "T_0 = temp_flipper(betas)\n",
    "\n",
    "# read in meanfield data\n",
    "\n",
    "meanfield_data = pd.read_csv(\"meanfield_isingdata_CSV.csv\")\n",
    "\n",
    "c_meanfield = meanfield_data['c']\n",
    "T_Tc_meanfield = meanfield_data['T/T_C']\n",
    "\n",
    "meanfield_data['T_0'] = 2.27 * meanfield_data['T/T_C']\n",
    "\n",
    "T_meanfield = meanfield_data['T_0']\n",
    "\n",
    "\n",
    "# plotting\n",
    "plt.figure(figsize=(8, 6))  # Width: 8 inches, Height: 6 inches\n",
    "\n",
    "plt.errorbar(T_0, c, yerr=c_err, fmt='o', capsize=3, label=\"Numerical data\")\n",
    "\n",
    "plt.plot(T_meanfield, c_meanfield, linestyle=\"-\", color = 'r', label=\"Mean field theory\")\n",
    "plt.xlim(1,5)\n",
    "\n",
    "# plt.plot(T_O_meanfield, c)\n",
    "\n",
    "# plt.plot(betas, c, marker='o', linestyle=\"\")            \n",
    "plt.legend()\n",
    "# Set tick parameters inwards\n",
    "plt.tick_params(axis='both', direction='in')\n",
    "plt.xlabel('Dimensionless temperature $T_0$')\n",
    "\n",
    "plt.ylabel(\"Heat Capacity $c$\")\n"
   ]
  },
  {
   "cell_type": "code",
   "execution_count": 22,
   "metadata": {},
   "outputs": [
    {
     "name": "stderr",
     "output_type": "stream",
     "text": [
      "/var/folders/j0/4jbn0h55721bgq7ld4mp7qjw0000gn/T/ipykernel_3473/3518138671.py:55: RuntimeWarning: invalid value encountered in sqrt\n",
      "  value_errors.append( prefactor * np.sqrt(value_squares[k] - dependantVar[k]**2) )\n"
     ]
    },
    {
     "data": {
      "text/plain": [
       "Text(0, 0.5, 'Magnetic susceptibility $\\\\chi_m$')"
      ]
     },
     "execution_count": 22,
     "metadata": {},
     "output_type": "execute_result"
    },
    {
     "data": {
      "image/png": "[encoded data removed]",
      "text/plain": [
       "<Figure size 576x432 with 1 Axes>"
      ]
     },
     "metadata": {
      "needs_background": "light"
     },
     "output_type": "display_data"
    }
   ],
   "source": [
    "# task 4, calculate magnetisation\n",
    "\n",
    "betas, mag, mag_err = plotter(\"Magnetisation\", 2, 50, task4=True)\n",
    "\n",
    "chi = getChi(betas, mag)\n",
    "\n",
    "chi_err = []\n",
    "\n",
    "for i in range(len(c)):\n",
    "    temp_chi_err = 2 * mag_err[i] * mag[i]\n",
    "    chi_err.append(temp_chi_err)\n",
    "T_0 = temp_flipper(betas)\n",
    "\n",
    "meanfield_data = pd.read_csv(\"meanfield_isingdata_CSV.csv\")\n",
    "\n",
    "chi_meanfield = meanfield_data['chi']\n",
    "T_Tc_meanfield = meanfield_data['T/T_C']\n",
    "\n",
    "meanfield_data['T_0'] = 2.27 * meanfield_data['T/T_C']\n",
    "\n",
    "T_meanfield = meanfield_data['T_0']\n",
    "\n",
    "# plotting\n",
    "plt.figure(figsize=(8, 6))  # Width: 8 inches, Height: 6 inches\n",
    "\n",
    "plt.errorbar(T_0, chi, yerr=chi_err, fmt='o', capsize=3, label=\"Numerical data\")\n",
    "\n",
    "plt.plot(T_meanfield, chi_meanfield, linestyle=\"-\", color = 'r', label=\"Mean field theory\")\n",
    "\n",
    "plt.ylim(0,15)\n",
    "\n",
    "# plt.plot(betas, c, marker='o', linestyle=\"\")            \n",
    "plt.legend()\n",
    "# Set tick parameters inwards\n",
    "plt.tick_params(axis='both', direction='in')\n",
    "plt.xlabel('Dimensionless temperature $T_0$')\n",
    "\n",
    "\n",
    "plt.ylabel(\"Magnetic susceptibility $\\chi_m$\")"
   ]
  }
 ],
 "metadata": {
  "kernelspec": {
   "display_name": "base",
   "language": "python",
   "name": "python3"
  },
  "language_info": {
   "codemirror_mode": {
    "name": "ipython",
    "version": 3
   },
   "file_extension": ".py",
   "mimetype": "text/x-python",
   "name": "python",
   "nbconvert_exporter": "python",
   "pygments_lexer": "ipython3",
   "version": "3.9.7"
  }
 },
 "nbformat": 4,
 "nbformat_minor": 2
}
