{
 "cells": [
  {
   "cell_type": "code",
   "execution_count": 244,
   "metadata": {},
   "outputs": [],
   "source": [
    "import pandas as pd\n",
    "import numpy as np\n",
    "import matplotlib.pyplot as plt\n",
    "import os\n"
   ]
  },
  {
   "cell_type": "code",
   "execution_count": 245,
   "metadata": {},
   "outputs": [],
   "source": [
    "# Directory containing CSV files\n",
    "directory = 'data/'\n",
    "\n",
    "# List to store DataFrames\n",
    "dfs = []\n",
    "\n",
    "# Loop through each CSV file in the directory\n",
    "for filename in os.listdir(directory):\n",
    "    if filename.endswith('.csv'):\n",
    "        # Read the CSV file into a DataFrame and append it to the list\n",
    "        filepath = os.path.join(directory, filename)\n",
    "        df = pd.read_csv(filepath)\n",
    "        dfs.append(df)\n",
    "\n",
    "# Concatenate all DataFrames in the list into a single DataFrame\n",
    "combined_df = pd.concat(dfs, ignore_index=True)\n"
   ]
  },
  {
   "cell_type": "code",
   "execution_count": 246,
   "metadata": {},
   "outputs": [
    {
     "name": "stdout",
     "output_type": "stream",
     "text": [
      "Array for beta=0.2:\n",
      "[[ 0.0000e+00  2.0000e-01  1.0000e+00 -4.0000e+00  1.0000e+00  3.0000e+00]\n",
      " [ 1.0000e+00  2.0000e-01  6.2875e-01 -2.0200e+00  5.1250e-01  3.0000e+00]\n",
      " [ 2.0000e+00  2.0000e-01  4.0000e-01 -1.3700e+00  3.5500e-01  3.0000e+00]\n",
      " ...\n",
      " [ 4.8000e+01  2.0000e-01  5.0000e-03 -7.4000e-01  1.9750e-01  4.9000e+01]\n",
      " [ 4.9000e+01  2.0000e-01 -3.7500e-02 -7.6000e-01  2.0000e-01  4.9000e+01]\n",
      " [ 5.0000e+01  2.0000e-01 -3.1250e-02 -7.3500e-01  1.9000e-01  4.9000e+01]]\n",
      "\n",
      "Array for beta=0.3:\n",
      "[[ 0.0000e+00  3.0000e-01  1.0000e+00 -4.0000e+00  1.0000e+00  2.9000e+01]\n",
      " [ 1.0000e+00  3.0000e-01  7.9375e-01 -2.7850e+00  6.8250e-01  2.9000e+01]\n",
      " [ 2.0000e+00  3.0000e-01  6.6625e-01 -2.2550e+00  5.5000e-01  2.9000e+01]\n",
      " ...\n",
      " [ 4.8000e+01  3.0000e-01  4.1250e-02 -1.3500e+00  3.6000e-01  3.0000e+01]\n",
      " [ 4.9000e+01  3.0000e-01  4.2500e-02 -1.4550e+00  3.8000e-01  3.0000e+01]\n",
      " [ 5.0000e+01  3.0000e-01  6.2500e-02 -1.4600e+00  3.5500e-01  3.0000e+01]]\n",
      "\n",
      "Array for beta=0.4:\n",
      "[[ 0.       0.4      1.      -4.       1.       8.     ]\n",
      " [ 1.       0.4      0.9325  -3.52     0.8725   8.     ]\n",
      " [ 2.       0.4      0.87125 -3.21     0.8025   8.     ]\n",
      " ...\n",
      " [48.       0.4      0.43375 -2.38     0.6125   5.     ]\n",
      " [49.       0.4      0.46625 -2.38     0.605    5.     ]\n",
      " [50.       0.4      0.49125 -2.42     0.61     5.     ]]\n",
      "\n",
      "Array for beta=0.5:\n",
      "[[ 0.       0.5      1.      -4.       1.      48.     ]\n",
      " [ 1.       0.5      0.98    -3.845    0.9625  48.     ]\n",
      " [ 2.       0.5      0.95625 -3.695    0.9225  48.     ]\n",
      " ...\n",
      " [48.       0.5      0.895   -3.425    0.85    46.     ]\n",
      " [49.       0.5      0.89375 -3.395    0.86    46.     ]\n",
      " [50.       0.5      0.915   -3.525    0.8875  46.     ]]\n",
      "\n",
      "Array for beta=0.6:\n",
      "[[ 0.       0.6      1.      -4.       1.      10.     ]\n",
      " [ 1.       0.6      0.9875  -3.9      0.975   10.     ]\n",
      " [ 2.       0.6      0.98125 -3.87     0.97    10.     ]\n",
      " ...\n",
      " [48.       0.6      0.975   -3.815    0.955   35.     ]\n",
      " [49.       0.6      0.975   -3.815    0.9525  35.     ]\n",
      " [50.       0.6      0.9725  -3.815    0.95    35.     ]]\n",
      "\n",
      "Array for beta=0.7:\n",
      "[[ 0.       0.7      1.      -4.       1.      42.     ]\n",
      " [ 1.       0.7      0.99    -3.92     0.98    42.     ]\n",
      " [ 2.       0.7      0.985   -3.89     0.97    42.     ]\n",
      " ...\n",
      " [48.       0.7      0.99125 -3.935    0.985    8.     ]\n",
      " [49.       0.7      0.98875 -3.92     0.98     8.     ]\n",
      " [50.       0.7      0.99    -3.93     0.9825   8.     ]]\n",
      "\n"
     ]
    }
   ],
   "source": [
    "# Group the DataFrame by the 'beta' column\n",
    "grouped_df = combined_df.groupby('beta')\n",
    "\n",
    "# Create an empty dictionary to store the arrays\n",
    "beta_arrays = {}\n",
    "\n",
    "# Iterate over the groups\n",
    "for beta, group in grouped_df:\n",
    "    # Store the group as an array in the dictionary\n",
    "    beta_arrays[beta] = group.to_numpy()\n",
    "\n",
    "# Access the arrays for each beta value\n",
    "for beta, array in beta_arrays.items():\n",
    "    print(f\"Array for beta={beta}:\")\n",
    "    print(array)\n",
    "    print()\n"
   ]
  },
  {
   "cell_type": "code",
   "execution_count": 266,
   "metadata": {},
   "outputs": [],
   "source": [
    "def plotter(depVar, col):\n",
    "    \"\"\"Function plot dependant variable against number of sweeps\n",
    "    dependantVar: give string that dependant variable will be called\n",
    "    col: column index of dependant variable starting from 0\n",
    "    \"\"\"\n",
    "    for beta, array in beta_arrays.items(): \n",
    "        \n",
    "        # find number of seeds iterated over\n",
    "        max_seed = 0\n",
    "        for i in range(len(array)):\n",
    "            if array[i][5] > max_seed:\n",
    "                max_seed = int(array[i][5]) \n",
    "\n",
    "        # I don't know why I have to put this in\n",
    "        max_seed += 2\n",
    "\n",
    "        # magnetisation array for task 1\n",
    "        # columns are: sweeps, magnetisation, error\n",
    "        dependantVar = np.zeros(max_seed), np.zeros(max_seed), np.zeros(max_seed)\n",
    "\n",
    "        # errors\n",
    "        value_squares = np.zeros(max_seed)\n",
    "        value_errors = []\n",
    "\n",
    "        # iterates over every beta value\n",
    "        for i in range(len(array)):\n",
    "            \n",
    "            j = int(array[i][0])\n",
    "            # appends sweeps\n",
    "            dependantVar[0][j] = array[i][0]\n",
    "            # appends dependantVar\n",
    "            dependantVar[1][j] += array[i][col] / 50\n",
    "            # appends dependantVar squared for error stuff\n",
    "            value_squares[j] += array[i][col]**2 / 50\n",
    "\n",
    "        prefactor = 1 / ( np.sqrt( max_seed) -1 ) \n",
    "        for k in range(len(value_squares)):\n",
    "            value_errors.append( prefactor * np.sqrt(value_squares[k] - dependantVar[1][k]**2) )\n",
    "            \n",
    "        # sets intial error to 0 -> magnetisation always starts from +1 or -1\n",
    "        value_errors[0] = 0\n",
    "\n",
    "        plt.errorbar(dependantVar[0], dependantVar[1], yerr=value_errors, fmt='o', capsize=3)\n",
    "\n",
    "        # Set tick parameters inwards\n",
    "        plt.tick_params(axis='both', direction='in')\n",
    "        plt.xlabel('Sweeps')\n",
    "        plt.xlim(0,10)\n",
    "\n",
    "        plt.ylabel(depVar)\n",
    "        plt.title(f'{depVar} vs Sweeps, beta = {beta}')\n",
    "    plt.show()\n",
    "\n",
    "    return \n",
    "\n",
    "    "
   ]
  },
  {
   "cell_type": "code",
   "execution_count": 270,
   "metadata": {},
   "outputs": [
    {
     "name": "stderr",
     "output_type": "stream",
     "text": [
      "/var/folders/j0/4jbn0h55721bgq7ld4mp7qjw0000gn/T/ipykernel_5207/4202104392.py:38: RuntimeWarning: invalid value encountered in sqrt\n",
      "  value_errors.append( prefactor * np.sqrt(value_squares[k] - dependantVar[1][k]**2) )\n",
      "/var/folders/j0/4jbn0h55721bgq7ld4mp7qjw0000gn/T/ipykernel_5207/4202104392.py:38: RuntimeWarning: invalid value encountered in sqrt\n",
      "  value_errors.append( prefactor * np.sqrt(value_squares[k] - dependantVar[1][k]**2) )\n",
      "/var/folders/j0/4jbn0h55721bgq7ld4mp7qjw0000gn/T/ipykernel_5207/4202104392.py:38: RuntimeWarning: invalid value encountered in sqrt\n",
      "  value_errors.append( prefactor * np.sqrt(value_squares[k] - dependantVar[1][k]**2) )\n",
      "/var/folders/j0/4jbn0h55721bgq7ld4mp7qjw0000gn/T/ipykernel_5207/4202104392.py:38: RuntimeWarning: invalid value encountered in sqrt\n",
      "  value_errors.append( prefactor * np.sqrt(value_squares[k] - dependantVar[1][k]**2) )\n",
      "/var/folders/j0/4jbn0h55721bgq7ld4mp7qjw0000gn/T/ipykernel_5207/4202104392.py:38: RuntimeWarning: invalid value encountered in sqrt\n",
      "  value_errors.append( prefactor * np.sqrt(value_squares[k] - dependantVar[1][k]**2) )\n",
      "/var/folders/j0/4jbn0h55721bgq7ld4mp7qjw0000gn/T/ipykernel_5207/4202104392.py:38: RuntimeWarning: invalid value encountered in sqrt\n",
      "  value_errors.append( prefactor * np.sqrt(value_squares[k] - dependantVar[1][k]**2) )\n"
     ]
    },
    {
     "data": {
      "image/png": "[encoded data removed]",
      "text/plain": [
       "<Figure size 432x288 with 1 Axes>"
      ]
     },
     "metadata": {
      "needs_background": "light"
     },
     "output_type": "display_data"
    }
   ],
   "source": [
    "plotter(\"Magnetisation\", 2)"
   ]
  }
 ],
 "metadata": {
  "kernelspec": {
   "display_name": "base",
   "language": "python",
   "name": "python3"
  },
  "language_info": {
   "codemirror_mode": {
    "name": "ipython",
    "version": 3
   },
   "file_extension": ".py",
   "mimetype": "text/x-python",
   "name": "python",
   "nbconvert_exporter": "python",
   "pygments_lexer": "ipython3",
   "version": "3.9.7"
  }
 },
 "nbformat": 4,
 "nbformat_minor": 2
}
