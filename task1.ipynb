{
 "cells": [
  {
   "cell_type": "code",
   "execution_count": 152,
   "metadata": {},
   "outputs": [],
   "source": [
    "import pandas as pd\n",
    "import numpy as np\n",
    "import matplotlib.pyplot as plt\n",
    "import os\n"
   ]
  },
  {
   "cell_type": "code",
   "execution_count": 153,
   "metadata": {},
   "outputs": [],
   "source": [
    "# Directory containing CSV files\n",
    "directory = 'data/'\n",
    "\n",
    "# List to store DataFrames\n",
    "dfs = []\n",
    "\n",
    "# Loop through each CSV file in the directory\n",
    "for filename in os.listdir(directory):\n",
    "    if filename.endswith('.csv'):\n",
    "        # Read the CSV file into a DataFrame and append it to the list\n",
    "        filepath = os.path.join(directory, filename)\n",
    "        df = pd.read_csv(filepath)\n",
    "        dfs.append(df)\n",
    "\n",
    "# Concatenate all DataFrames in the list into a single DataFrame\n",
    "combined_df = pd.concat(dfs, ignore_index=True)\n"
   ]
  },
  {
   "cell_type": "code",
   "execution_count": 143,
   "metadata": {},
   "outputs": [
    {
     "name": "stdout",
     "output_type": "stream",
     "text": [
      "Array for beta=0.2:\n",
      "[[ 0.0000e+00  2.0000e-01  1.0000e+00 -4.0000e+00  1.0000e+00  3.0000e+00]\n",
      " [ 1.0000e+00  2.0000e-01  6.2875e-01 -2.0200e+00  5.1250e-01  3.0000e+00]\n",
      " [ 2.0000e+00  2.0000e-01  4.0000e-01 -1.3700e+00  3.5500e-01  3.0000e+00]\n",
      " ...\n",
      " [ 4.8000e+01  2.0000e-01  5.0000e-03 -7.4000e-01  1.9750e-01  4.9000e+01]\n",
      " [ 4.9000e+01  2.0000e-01 -3.7500e-02 -7.6000e-01  2.0000e-01  4.9000e+01]\n",
      " [ 5.0000e+01  2.0000e-01 -3.1250e-02 -7.3500e-01  1.9000e-01  4.9000e+01]]\n",
      "\n",
      "Array for beta=0.3:\n",
      "[[ 0.0000e+00  3.0000e-01  1.0000e+00 -4.0000e+00  1.0000e+00  2.9000e+01]\n",
      " [ 1.0000e+00  3.0000e-01  7.9375e-01 -2.7850e+00  6.8250e-01  2.9000e+01]\n",
      " [ 2.0000e+00  3.0000e-01  6.6625e-01 -2.2550e+00  5.5000e-01  2.9000e+01]\n",
      " ...\n",
      " [ 4.8000e+01  3.0000e-01  4.1250e-02 -1.3500e+00  3.6000e-01  3.0000e+01]\n",
      " [ 4.9000e+01  3.0000e-01  4.2500e-02 -1.4550e+00  3.8000e-01  3.0000e+01]\n",
      " [ 5.0000e+01  3.0000e-01  6.2500e-02 -1.4600e+00  3.5500e-01  3.0000e+01]]\n",
      "\n",
      "Array for beta=0.4:\n",
      "[[ 0.       0.4      1.      -4.       1.       8.     ]\n",
      " [ 1.       0.4      0.9325  -3.52     0.8725   8.     ]\n",
      " [ 2.       0.4      0.87125 -3.21     0.8025   8.     ]\n",
      " ...\n",
      " [48.       0.4      0.43375 -2.38     0.6125   5.     ]\n",
      " [49.       0.4      0.46625 -2.38     0.605    5.     ]\n",
      " [50.       0.4      0.49125 -2.42     0.61     5.     ]]\n",
      "\n",
      "Array for beta=0.5:\n",
      "[[ 0.       0.5      1.      -4.       1.      48.     ]\n",
      " [ 1.       0.5      0.98    -3.845    0.9625  48.     ]\n",
      " [ 2.       0.5      0.95625 -3.695    0.9225  48.     ]\n",
      " ...\n",
      " [48.       0.5      0.895   -3.425    0.85    46.     ]\n",
      " [49.       0.5      0.89375 -3.395    0.86    46.     ]\n",
      " [50.       0.5      0.915   -3.525    0.8875  46.     ]]\n",
      "\n",
      "Array for beta=0.6:\n",
      "[[ 0.       0.6      1.      -4.       1.      10.     ]\n",
      " [ 1.       0.6      0.9875  -3.9      0.975   10.     ]\n",
      " [ 2.       0.6      0.98125 -3.87     0.97    10.     ]\n",
      " ...\n",
      " [48.       0.6      0.975   -3.815    0.955   35.     ]\n",
      " [49.       0.6      0.975   -3.815    0.9525  35.     ]\n",
      " [50.       0.6      0.9725  -3.815    0.95    35.     ]]\n",
      "\n",
      "Array for beta=0.7:\n",
      "[[ 0.       0.7      1.      -4.       1.      42.     ]\n",
      " [ 1.       0.7      0.99    -3.92     0.98    42.     ]\n",
      " [ 2.       0.7      0.985   -3.89     0.97    42.     ]\n",
      " ...\n",
      " [48.       0.7      0.99125 -3.935    0.985    8.     ]\n",
      " [49.       0.7      0.98875 -3.92     0.98     8.     ]\n",
      " [50.       0.7      0.99    -3.93     0.9825   8.     ]]\n",
      "\n"
     ]
    }
   ],
   "source": [
    "# Group the DataFrame by the 'beta' column\n",
    "grouped_df = combined_df.groupby('beta')\n",
    "\n",
    "# Create an empty dictionary to store the arrays\n",
    "beta_arrays = {}\n",
    "\n",
    "# Iterate over the groups\n",
    "for beta, group in grouped_df:\n",
    "    # Store the group as an array in the dictionary\n",
    "    beta_arrays[beta] = group.to_numpy()\n",
    "\n",
    "# Access the arrays for each beta value\n",
    "for beta, array in beta_arrays.items():\n",
    "    print(f\"Array for beta={beta}:\")\n",
    "    print(array)\n",
    "    print()\n"
   ]
  },
  {
   "cell_type": "code",
   "execution_count": 243,
   "metadata": {},
   "outputs": [
    {
     "name": "stdout",
     "output_type": "stream",
     "text": [
      "max seed = 51\n"
     ]
    },
    {
     "name": "stderr",
     "output_type": "stream",
     "text": [
      "/var/folders/j0/4jbn0h55721bgq7ld4mp7qjw0000gn/T/ipykernel_5207/1461042817.py:35: RuntimeWarning: invalid value encountered in sqrt\n",
      "  value_errors.append( np.sqrt(value_squares[k] - magnetisation[1][k]**2) )\n"
     ]
    },
    {
     "data": {
      "image/png": "[encoded data removed]",
      "text/plain": [
       "<Figure size 432x288 with 1 Axes>"
      ]
     },
     "metadata": {
      "needs_background": "light"
     },
     "output_type": "display_data"
    }
   ],
   "source": [
    "# now need to sort into magnetisation columns\n",
    "\n",
    "# find number of seeds iterated over\n",
    "max_seed = 0\n",
    "for i in range(len(beta_arrays[0.2])):\n",
    "    if beta_arrays[0.2][i][5] > max_seed:\n",
    "        max_seed = int(beta_arrays[0.2][i][5]) \n",
    "\n",
    "# I don't know why I have to put this in\n",
    "max_seed += 2\n",
    "\n",
    "print(f\"max seed = {max_seed}\")\n",
    "\n",
    "# magnetisation array for task 1\n",
    "# columns are: sweeps, magnetisation, error\n",
    "magnetisation = np.zeros(max_seed), np.zeros(max_seed), np.zeros(max_seed)\n",
    "\n",
    "# errors\n",
    "value_squares = np.zeros(max_seed)\n",
    "value_errors = []\n",
    "\n",
    "# iterates over every beta = 0.2 value\n",
    "for i in range(len(beta_arrays[0.2])):\n",
    "    \n",
    "    j = int(beta_arrays[0.2][i][0])\n",
    "    # appends sweeps\n",
    "    magnetisation[0][j] = beta_arrays[0.2][i][0]\n",
    "    # appends magnetisation\n",
    "    magnetisation[1][j] += beta_arrays[0.2][i][2] / 50\n",
    "    # appends magnetisation squared for error stuff\n",
    "    value_squares[j] += beta_arrays[0.2][i][2]**2 / 50\n",
    "\n",
    "prefactor = 1 / ( np.sqrt( max_seed) -1 ) \n",
    "for k in range(len(value_squares)):\n",
    "    value_errors.append( np.sqrt(value_squares[k] - magnetisation[1][k]**2) )\n",
    "    \n",
    "# sets intial error to 0 -> magnetisation always starts from +1 or -1\n",
    "value_errors[0] = 0\n",
    "\n",
    "plt.errorbar(magnetisation[0], magnetisation[1], yerr=value_errors, fmt='o', capsize=3)\n",
    "\n",
    "# Set tick parameters inwards\n",
    "plt.tick_params(axis='both', direction='in')\n",
    "plt.xlabel('Sweeps')\n",
    "\n",
    "\n",
    "plt.ylabel('Magnetisation')\n",
    "plt.title(f'Magnetisation vs Sweeps, beta = {beta}')\n",
    "plt.show()\n",
    "\n",
    "    "
   ]
  },
  {
   "cell_type": "code",
   "execution_count": 236,
   "metadata": {},
   "outputs": [
    {
     "data": {
      "text/plain": [
       "[0,\n",
       " 0.0036685153636607515,\n",
       " 0.005211355301308986,\n",
       " 0.005115616523243961,\n",
       " 0.005885905071918568,\n",
       " 0.006644602758711563,\n",
       " 0.006336235032204481,\n",
       " 0.00613295484114707,\n",
       " 0.007521459435818677,\n",
       " 0.006976406124637365,\n",
       " 0.007370498827037299,\n",
       " 0.006889188028535745,\n",
       " 0.007333890734671985,\n",
       " 0.006316065657071299,\n",
       " 0.007275268317070611,\n",
       " 0.007154389960519149,\n",
       " 0.007284564412445921,\n",
       " 0.006767825289165357,\n",
       " 0.0068175652765199045,\n",
       " 0.007624889990451205,\n",
       " 0.008394804665711407,\n",
       " 0.00779859605574275,\n",
       " 0.007272925348594791,\n",
       " 0.007121866629956877,\n",
       " 0.0073317224516160195,\n",
       " 0.0066577286995456,\n",
       " 0.005719311459967443,\n",
       " 0.0073580014586751815,\n",
       " 0.007061088849566116,\n",
       " 0.006905083300221906,\n",
       " 0.0073348532062078925,\n",
       " 0.005931682950275574,\n",
       " 0.0071441034460463515,\n",
       " 0.007290898033024552,\n",
       " 0.007238041236993272,\n",
       " 0.006988752442122788,\n",
       " 0.0065386163061101855,\n",
       " 0.007482947153266933,\n",
       " 0.007210203642963649,\n",
       " 0.006631572028160469,\n",
       " 0.005281465794078782,\n",
       " 0.006103993546740419,\n",
       " 0.0068618574667607705,\n",
       " 0.0061953662568617,\n",
       " 0.007627750524041093,\n",
       " 0.007433918860650742,\n",
       " 0.006533313699874794,\n",
       " 0.007804500856023898,\n",
       " 0.006626662644140464,\n",
       " 0.0065420873546198615,\n",
       " 0.006328499689571023]"
      ]
     },
     "execution_count": 236,
     "metadata": {},
     "output_type": "execute_result"
    }
   ],
   "source": [
    "value_errors"
   ]
  },
  {
   "cell_type": "code",
   "execution_count": 221,
   "metadata": {},
   "outputs": [
    {
     "data": {
      "text/plain": [
       "(array([ 0.,  1.,  2.,  3.,  4.,  5.,  6.,  7.,  8.,  9., 10., 11., 12.,\n",
       "        13., 14., 15., 16., 17., 18., 19., 20., 21., 22., 23., 24., 25.,\n",
       "        26., 27., 28., 29., 30., 31., 32., 33., 34., 35., 36., 37., 38.,\n",
       "        39., 40., 41., 42., 43., 44., 45., 46., 47., 48., 49., 50.]),\n",
       " array([ 1.00000e+00,  6.54050e-01,  4.04725e-01,  2.56400e-01,\n",
       "         1.66025e-01,  1.00100e-01,  6.55750e-02,  3.47000e-02,\n",
       "         2.24500e-02,  9.40000e-03,  7.22500e-03,  6.65000e-03,\n",
       "         7.90000e-03,  6.92500e-03,  4.57500e-03,  7.67500e-03,\n",
       "         2.77500e-03,  9.32500e-03,  2.75000e-03, -3.95000e-03,\n",
       "         2.52500e-03,  1.80000e-03,  6.60000e-03,  2.82500e-03,\n",
       "         6.62500e-03,  3.07500e-03, -2.45000e-03,  4.42500e-03,\n",
       "        -4.25000e-04, -9.20000e-03,  8.80000e-03,  1.30500e-02,\n",
       "         1.28750e-02,  1.15000e-02,  3.45000e-03,  1.52500e-03,\n",
       "         7.35000e-03,  4.35000e-03,  7.60000e-03,  9.60000e-03,\n",
       "         4.40000e-03,  1.47500e-03,  5.15000e-03,  6.72500e-03,\n",
       "         6.02500e-03, -1.04750e-02, -8.42500e-03,  4.50000e-04,\n",
       "        -5.55000e-03,  2.85000e-03, -3.22500e-03]))"
      ]
     },
     "execution_count": 221,
     "metadata": {},
     "output_type": "execute_result"
    }
   ],
   "source": [
    "magnetisation"
   ]
  },
  {
   "cell_type": "code",
   "execution_count": 161,
   "metadata": {},
   "outputs": [
    {
     "data": {
      "text/plain": [
       "2550"
      ]
     },
     "execution_count": 161,
     "metadata": {},
     "output_type": "execute_result"
    }
   ],
   "source": [
    "len(beta_arrays[0.2])"
   ]
  }
 ],
 "metadata": {
  "kernelspec": {
   "display_name": "base",
   "language": "python",
   "name": "python3"
  },
  "language_info": {
   "codemirror_mode": {
    "name": "ipython",
    "version": 3
   },
   "file_extension": ".py",
   "mimetype": "text/x-python",
   "name": "python",
   "nbconvert_exporter": "python",
   "pygments_lexer": "ipython3",
   "version": "3.9.7"
  }
 },
 "nbformat": 4,
 "nbformat_minor": 2
}
