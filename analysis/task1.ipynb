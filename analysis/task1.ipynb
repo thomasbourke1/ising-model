{
 "cells": [
  {
   "cell_type": "code",
   "execution_count": 16,
   "metadata": {},
   "outputs": [],
   "source": [
    "import pandas as pd\n",
    "import numpy as np\n",
    "import matplotlib.pyplot as plt\n",
    "import os"
   ]
  },
  {
   "cell_type": "code",
   "execution_count": 17,
   "metadata": {},
   "outputs": [],
   "source": [
    "def num_files(filepath):\n",
    "    file_count = 0\n",
    "    for item in os.listdir(filepath):\n",
    "        item_path = os.path.join(filepath, item)\n",
    "        # Check if it's a file\n",
    "        if os.path.isfile(item_path):\n",
    "            file_count += 1 \n",
    "    return file_count"
   ]
  },
  {
   "cell_type": "code",
   "execution_count": 35,
   "metadata": {},
   "outputs": [
    {
     "name": "stderr",
     "output_type": "stream",
     "text": [
      "/var/folders/j0/4jbn0h55721bgq7ld4mp7qjw0000gn/T/ipykernel_9543/845922183.py:30: RuntimeWarning: invalid value encountered in sqrt\n",
      "  mag_error.append(np.sqrt(mag_squares[k] - sweep_arrays[1][k]**2))\n"
     ]
    }
   ],
   "source": [
    "sweep_arrays = np.zeros(11), np.zeros(11)\n",
    "\n",
    "mag_squares = np.zeros(11)\n",
    "mag_errors = np.zeros(11)\n",
    "\n",
    "\n",
    "# iterate for each file\n",
    "for i in range(num_files(\"task1_data\")):\n",
    "    # read filename\n",
    "    filename = \"task1_data/file_magnetisation\" + str(i) + \".csv\"\n",
    "    # read in file\n",
    "    temp = pd.read_csv(filename)\n",
    "    \n",
    "    temp_sweeps = temp['sweeps']\n",
    "    temp_magnetisation = temp['magnetisation']\n",
    "    \n",
    "    # adds data to sweep_arrays\n",
    "    for j in range(len(temp_sweeps)):\n",
    "        # append sweeps and magnetisations\n",
    "        sweep_arrays[0][j] += (temp_sweeps[j] / num_files(\"task1_data\"))\n",
    "        sweep_arrays[1][j] += (temp_magnetisation[j] / num_files(\"task1_data\"))\n",
    "        \n",
    "        #error stuff\n",
    "        mag_squares[j] += temp_magnetisation[j]**2 / num_files(\"task1_data\")\n",
    "    \n",
    "# calculate the standard error\n",
    "mag_error = []\n",
    "prefactor = 1 / ( np.sqrt( num_files(\"task1_data\") -1 ) )\n",
    "for k in range(len(mag_squares)):\n",
    "    mag_error.append(np.sqrt(mag_squares[k] - sweep_arrays[1][k]**2))   \n",
    "\n",
    "mag_error[0] = 0"
   ]
  },
  {
   "cell_type": "code",
   "execution_count": 38,
   "metadata": {},
   "outputs": [
    {
     "data": {
      "image/png": "[encoded data removed]",
      "text/plain": [
       "<Figure size 432x288 with 1 Axes>"
      ]
     },
     "metadata": {
      "needs_background": "light"
     },
     "output_type": "display_data"
    }
   ],
   "source": [
    "sweeps = sweep_arrays[0]\n",
    "magnetisation = sweep_arrays[1]\n",
    "\n",
    "#plt.plot(sweeps, magnetisation)\n",
    "\n",
    "plt.errorbar(sweeps, magnetisation, yerr=mag_error, fmt='o', capsize=3)\n",
    "\n",
    "import matplotlib.pyplot as plt\n",
    "\n",
    "# Set tick parameters inwards\n",
    "plt.tick_params(axis='both', direction='in')\n",
    "plt.xlabel('Sweeps')\n",
    "plt.ylabel('Magnetisation')\n",
    "plt.title('Magnetisation vs Sweeps')\n",
    "plt.savefig(\"figures/fig1.png\")\n",
    "plt.show()\n"
   ]
  }
 ],
 "metadata": {
  "kernelspec": {
   "display_name": "base",
   "language": "python",
   "name": "python3"
  },
  "language_info": {
   "codemirror_mode": {
    "name": "ipython",
    "version": 3
   },
   "file_extension": ".py",
   "mimetype": "text/x-python",
   "name": "python",
   "nbconvert_exporter": "python",
   "pygments_lexer": "ipython3",
   "version": "3.9.7"
  }
 },
 "nbformat": 4,
 "nbformat_minor": 2
}
