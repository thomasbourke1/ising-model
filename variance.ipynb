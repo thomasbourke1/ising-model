{
 "cells": [
  {
   "cell_type": "code",
   "execution_count": 3,
   "metadata": {},
   "outputs": [],
   "source": [
    "import numpy as np\n",
    "import pandas as pd\n",
    "import os"
   ]
  },
  {
   "cell_type": "code",
   "execution_count": 4,
   "metadata": {},
   "outputs": [],
   "source": [
    "# function to calculate variance\n",
    "\n",
    "def getVariance(data):\n",
    "    # takes in pre-sliced data column, computers the variance\n",
    "    return np.var(data)\n",
    "\n",
    "folder_path = \"data/\"\n",
    "\n",
    "for filename in os.listdir(folder_path):\n",
    "    if filename.endswith(\".csv\"):\n",
    "        file_path = os.path.join(folder_path, filename)\n",
    "        \n",
    "        # Read the CSV file into a DataFrame\n",
    "        df = pd.read_csv(file_path)\n",
    "        \n",
    "        magnetisation_variance = getVariance(df['magnetisation'][10:])\n",
    "        energy_variance = getVariance(df['energy'][10:])\n",
    "        \n",
    "        # Create a new column with the calculated variance\n",
    "        mVar = \"mVar\"\n",
    "        df[mVar] = magnetisation_variance\n",
    "        \n",
    "        eVar = \"eVar\"\n",
    "        df[eVar] = energy_variance\n",
    "        \n",
    "        \n",
    "        \n",
    "        # Save the modified DataFrame back to CSV\n",
    "        new_file_path = os.path.join(folder_path, filename)\n",
    "        df.to_csv(new_file_path, index=False)"
   ]
  },
  {
   "cell_type": "code",
   "execution_count": null,
   "metadata": {},
   "outputs": [],
   "source": []
  }
 ],
 "metadata": {
  "kernelspec": {
   "display_name": "base",
   "language": "python",
   "name": "python3"
  },
  "language_info": {
   "codemirror_mode": {
    "name": "ipython",
    "version": 3
   },
   "file_extension": ".py",
   "mimetype": "text/x-python",
   "name": "python",
   "nbconvert_exporter": "python",
   "pygments_lexer": "ipython3",
   "version": "3.9.7"
  }
 },
 "nbformat": 4,
 "nbformat_minor": 2
}
